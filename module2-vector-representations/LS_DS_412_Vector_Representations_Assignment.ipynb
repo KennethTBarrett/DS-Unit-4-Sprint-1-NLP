{
  "nbformat": 4,
  "nbformat_minor": 0,
  "metadata": {
    "colab": {
      "name": "LS_DS_412_Vector_Representations_Assignment.ipynb",
      "provenance": [],
      "collapsed_sections": []
    },
    "kernel_info": {
      "name": "python3"
    },
    "kernelspec": {
      "display_name": "U4S1",
      "language": "python",
      "name": "u4s1"
    },
    "language_info": {
      "codemirror_mode": {
        "name": "ipython",
        "version": 3
      },
      "file_extension": ".py",
      "mimetype": "text/x-python",
      "name": "python",
      "nbconvert_exporter": "python",
      "pygments_lexer": "ipython3",
      "version": "3.7.0"
    },
    "nteract": {
      "version": "0.14.3"
    }
  },
  "cells": [
    {
      "cell_type": "markdown",
      "metadata": {
        "id": "x6bM2pWa7oAy",
        "colab_type": "text"
      },
      "source": [
        "<img align=\"left\" src=\"https://lever-client-logos.s3.amazonaws.com/864372b1-534c-480e-acd5-9711f850815c-1524247202159.png\" width=200>\n",
        "<br></br>\n",
        "\n",
        "# Vector Representations\n",
        "## *Data Science Unit 4 Sprint 2 Assignment 2*"
      ]
    },
    {
      "cell_type": "code",
      "metadata": {
        "colab_type": "code",
        "id": "hyj-f9FDcVFp",
        "colab": {}
      },
      "source": [
        "import re\n",
        "import string\n",
        "\n",
        "from sklearn.feature_extraction.text import CountVectorizer, TfidfVectorizer\n",
        "import matplotlib.pyplot as plt\n",
        "import pandas as pd\n",
        "import numpy as np\n",
        "import spacy\n",
        "\n",
        "from bs4 import BeautifulSoup"
      ],
      "execution_count": 0,
      "outputs": []
    },
    {
      "cell_type": "markdown",
      "metadata": {
        "colab_type": "text",
        "id": "M7bcmqfGXrFG"
      },
      "source": [
        "## 1) *Clean:* Job Listings from indeed.com that contain the title \"Data Scientist\" \n",
        "\n",
        "You have `job_listings.csv` in the data folder for this module. The text data in the description column is still messy - full of html tags. Use the [BeautifulSoup](https://www.crummy.com/software/BeautifulSoup/bs4/doc/) library to clean up this column. You will need to read through the documentation to accomplish this task. "
      ]
    },
    {
      "cell_type": "code",
      "metadata": {
        "colab_type": "code",
        "id": "KcYlc1URXhlC",
        "colab": {},
        "outputId": "b8044d1c-c272-4084-a4af-571de594f4ca"
      },
      "source": [
        "from bs4 import BeautifulSoup\n",
        "import pandas as pd\n",
        "import requests\n",
        "import re\n",
        "\n",
        "df = pd.read_csv('./data/job_listings.csv')\n",
        "df['description'] = df['description'].apply(lambda text: BeautifulSoup(text, 'html.parser').get_text()) # Parsing HTML tags.\n",
        "\n",
        "# QUESTION: how would I go about decoding the Unicode bytes - within this lambda function? o.O\n",
        "\n",
        "df.head()"
      ],
      "execution_count": 0,
      "outputs": [
        {
          "output_type": "execute_result",
          "data": {
            "text/html": [
              "<div>\n",
              "<style scoped>\n",
              "    .dataframe tbody tr th:only-of-type {\n",
              "        vertical-align: middle;\n",
              "    }\n",
              "\n",
              "    .dataframe tbody tr th {\n",
              "        vertical-align: top;\n",
              "    }\n",
              "\n",
              "    .dataframe thead th {\n",
              "        text-align: right;\n",
              "    }\n",
              "</style>\n",
              "<table border=\"1\" class=\"dataframe\">\n",
              "  <thead>\n",
              "    <tr style=\"text-align: right;\">\n",
              "      <th></th>\n",
              "      <th>Unnamed: 0</th>\n",
              "      <th>description</th>\n",
              "      <th>title</th>\n",
              "    </tr>\n",
              "  </thead>\n",
              "  <tbody>\n",
              "    <tr>\n",
              "      <th>0</th>\n",
              "      <td>0</td>\n",
              "      <td>b\"Job Requirements:\\nConceptual understanding ...</td>\n",
              "      <td>Data scientist</td>\n",
              "    </tr>\n",
              "    <tr>\n",
              "      <th>1</th>\n",
              "      <td>1</td>\n",
              "      <td>b'Job Description\\n\\nAs a Data Scientist 1, yo...</td>\n",
              "      <td>Data Scientist I</td>\n",
              "    </tr>\n",
              "    <tr>\n",
              "      <th>2</th>\n",
              "      <td>2</td>\n",
              "      <td>b'As a Data Scientist you will be working on c...</td>\n",
              "      <td>Data Scientist - Entry Level</td>\n",
              "    </tr>\n",
              "    <tr>\n",
              "      <th>3</th>\n",
              "      <td>3</td>\n",
              "      <td>b'$4,969 - $6,756 a monthContractUnder the gen...</td>\n",
              "      <td>Data Scientist</td>\n",
              "    </tr>\n",
              "    <tr>\n",
              "      <th>4</th>\n",
              "      <td>4</td>\n",
              "      <td>b'Location: USA \\xe2\\x80\\x93 multiple location...</td>\n",
              "      <td>Data Scientist</td>\n",
              "    </tr>\n",
              "  </tbody>\n",
              "</table>\n",
              "</div>"
            ],
            "text/plain": [
              "   Unnamed: 0                                        description  \\\n",
              "0           0  b\"Job Requirements:\\nConceptual understanding ...   \n",
              "1           1  b'Job Description\\n\\nAs a Data Scientist 1, yo...   \n",
              "2           2  b'As a Data Scientist you will be working on c...   \n",
              "3           3  b'$4,969 - $6,756 a monthContractUnder the gen...   \n",
              "4           4  b'Location: USA \\xe2\\x80\\x93 multiple location...   \n",
              "\n",
              "                          title  \n",
              "0               Data scientist   \n",
              "1              Data Scientist I  \n",
              "2  Data Scientist - Entry Level  \n",
              "3                Data Scientist  \n",
              "4                Data Scientist  "
            ]
          },
          "metadata": {
            "tags": []
          },
          "execution_count": 2
        }
      ]
    },
    {
      "cell_type": "code",
      "metadata": {
        "scrolled": true,
        "id": "YzBDuR1B7oBF",
        "colab_type": "code",
        "colab": {}
      },
      "source": [
        "ds_df = df[df['title'].str.contains('Data Scientist', flags=re.IGNORECASE)] # Dataframe for data scientist listings only.\n",
        "ds_df = ds_df.reset_index(drop=True)  # Resetting index for more cleaning (DS13 addition)"
      ],
      "execution_count": 0,
      "outputs": []
    },
    {
      "cell_type": "code",
      "metadata": {
        "id": "h42ioJxe7oBN",
        "colab_type": "code",
        "colab": {},
        "outputId": "90494ca6-2879-4974-8699-457484e22588"
      },
      "source": [
        "# DS13 ALTERATION - Let's go ahead and clean this up a bit more.\n",
        "\n",
        "for i in range(len(ds_df)):\n",
        "  ds_df['description'][i] = ds_df['description'][i][2:-1]  # Removing b and beginning / ending quotes\n",
        "  ds_df['description'][i] = ds_df['description'][i].replace('\\\\n', ' ')  # Removing line breaks."
      ],
      "execution_count": 0,
      "outputs": [
        {
          "output_type": "stream",
          "text": [
            "/home/kenneth/anaconda3/envs/U4S1/lib/python3.7/site-packages/ipykernel_launcher.py:4: SettingWithCopyWarning: \n",
            "A value is trying to be set on a copy of a slice from a DataFrame\n",
            "\n",
            "See the caveats in the documentation: https://pandas.pydata.org/pandas-docs/stable/user_guide/indexing.html#returning-a-view-versus-a-copy\n",
            "  after removing the cwd from sys.path.\n",
            "/home/kenneth/anaconda3/envs/U4S1/lib/python3.7/site-packages/ipykernel_launcher.py:5: SettingWithCopyWarning: \n",
            "A value is trying to be set on a copy of a slice from a DataFrame\n",
            "\n",
            "See the caveats in the documentation: https://pandas.pydata.org/pandas-docs/stable/user_guide/indexing.html#returning-a-view-versus-a-copy\n",
            "  \"\"\"\n"
          ],
          "name": "stderr"
        }
      ]
    },
    {
      "cell_type": "markdown",
      "metadata": {
        "colab_type": "text",
        "id": "5C4xFZNtX1m2"
      },
      "source": [
        "## 2) Use Spacy to tokenize the listings "
      ]
    },
    {
      "cell_type": "code",
      "metadata": {
        "colab_type": "code",
        "id": "dhUHuMr-X-II",
        "colab": {}
      },
      "source": [
        "# Imports\n",
        "\n",
        "import spacy\n",
        "from spacy.tokenizer import Tokenizer\n",
        "nlp = spacy.load(\"en_core_web_lg\")\n",
        "tokenizer = Tokenizer(nlp.vocab)"
      ],
      "execution_count": 0,
      "outputs": []
    },
    {
      "cell_type": "code",
      "metadata": {
        "id": "vmLMcwwk7oBl",
        "colab_type": "code",
        "colab": {}
      },
      "source": [
        "# I'm going to go ahead and extend the stop words - added additional stop words (DS13)\n",
        "STOP_WORDS = nlp.Defaults.stop_words.union([\"job\", \"data\", \"description\", \n",
        "                                            \"requirements\", \"scientist\", \"you\", \"will\",\n",
        "                                            \"apply\", \"now\", \"opportunity\", \"position\",\n",
        "                                            \"team\", \"work\", \"experience\", \"science\", \"company\",\n",
        "                                            \"job\", \"office\", \"located\", \"work\", \"business\"])"
      ],
      "execution_count": 0,
      "outputs": []
    },
    {
      "cell_type": "code",
      "metadata": {
        "id": "pbCk0jVI7oBt",
        "colab_type": "code",
        "colab": {},
        "outputId": "3b9ade3c-0d78-4c05-806e-437f89aafe25"
      },
      "source": [
        "tokens = []  # Empty list to populate with our tokens.\n",
        "\n",
        "for doc in tokenizer.pipe(ds_df['description'], batch_size=300):\n",
        "    \n",
        "    doc_tokens = []  # Empty list to populate\n",
        "    \n",
        "    for token in doc:\n",
        "        if (token.text.lower() not in STOP_WORDS) & (token.is_punct == False):\n",
        "            doc_tokens.append(token.text.lower())\n",
        "    tokens.append(doc_tokens)\n",
        "    \n",
        "ds_df['tokens'] = tokens\n",
        "\n",
        "ds_df.head()"
      ],
      "execution_count": 0,
      "outputs": [
        {
          "output_type": "execute_result",
          "data": {
            "text/html": [
              "<div>\n",
              "<style scoped>\n",
              "    .dataframe tbody tr th:only-of-type {\n",
              "        vertical-align: middle;\n",
              "    }\n",
              "\n",
              "    .dataframe tbody tr th {\n",
              "        vertical-align: top;\n",
              "    }\n",
              "\n",
              "    .dataframe thead th {\n",
              "        text-align: right;\n",
              "    }\n",
              "</style>\n",
              "<table border=\"1\" class=\"dataframe\">\n",
              "  <thead>\n",
              "    <tr style=\"text-align: right;\">\n",
              "      <th></th>\n",
              "      <th>Unnamed: 0</th>\n",
              "      <th>description</th>\n",
              "      <th>title</th>\n",
              "      <th>tokens</th>\n",
              "    </tr>\n",
              "  </thead>\n",
              "  <tbody>\n",
              "    <tr>\n",
              "      <th>0</th>\n",
              "      <td>0</td>\n",
              "      <td>Job Requirements: Conceptual understanding in ...</td>\n",
              "      <td>Data scientist</td>\n",
              "      <td>[requirements:, conceptual, understanding, mac...</td>\n",
              "    </tr>\n",
              "    <tr>\n",
              "      <th>1</th>\n",
              "      <td>1</td>\n",
              "      <td>Job Description  As a Data Scientist 1, you wi...</td>\n",
              "      <td>Data Scientist I</td>\n",
              "      <td>[ , 1,, help, build, machine, learning, models...</td>\n",
              "    </tr>\n",
              "    <tr>\n",
              "      <th>2</th>\n",
              "      <td>2</td>\n",
              "      <td>As a Data Scientist you will be working on con...</td>\n",
              "      <td>Data Scientist - Entry Level</td>\n",
              "      <td>[working, consulting, business., responsible, ...</td>\n",
              "    </tr>\n",
              "    <tr>\n",
              "      <th>3</th>\n",
              "      <td>3</td>\n",
              "      <td>$4,969 - $6,756 a monthContractUnder the gener...</td>\n",
              "      <td>Data Scientist</td>\n",
              "      <td>[$4,969, $6,756, monthcontractunder, general, ...</td>\n",
              "    </tr>\n",
              "    <tr>\n",
              "      <th>4</th>\n",
              "      <td>4</td>\n",
              "      <td>Location: USA \\xe2\\x80\\x93 multiple locations ...</td>\n",
              "      <td>Data Scientist</td>\n",
              "      <td>[location:, usa, \\xe2\\x80\\x93, multiple, locat...</td>\n",
              "    </tr>\n",
              "  </tbody>\n",
              "</table>\n",
              "</div>"
            ],
            "text/plain": [
              "   Unnamed: 0                                        description  \\\n",
              "0           0  Job Requirements: Conceptual understanding in ...   \n",
              "1           1  Job Description  As a Data Scientist 1, you wi...   \n",
              "2           2  As a Data Scientist you will be working on con...   \n",
              "3           3  $4,969 - $6,756 a monthContractUnder the gener...   \n",
              "4           4  Location: USA \\xe2\\x80\\x93 multiple locations ...   \n",
              "\n",
              "                          title  \\\n",
              "0               Data scientist    \n",
              "1              Data Scientist I   \n",
              "2  Data Scientist - Entry Level   \n",
              "3                Data Scientist   \n",
              "4                Data Scientist   \n",
              "\n",
              "                                              tokens  \n",
              "0  [requirements:, conceptual, understanding, mac...  \n",
              "1  [ , 1,, help, build, machine, learning, models...  \n",
              "2  [working, consulting, business., responsible, ...  \n",
              "3  [$4,969, $6,756, monthcontractunder, general, ...  \n",
              "4  [location:, usa, \\xe2\\x80\\x93, multiple, locat...  "
            ]
          },
          "metadata": {
            "tags": []
          },
          "execution_count": 7
        }
      ]
    },
    {
      "cell_type": "markdown",
      "metadata": {
        "colab_type": "text",
        "id": "-lgCZNL_YycP"
      },
      "source": [
        "## 3) Use Scikit-Learn's CountVectorizer to get word counts for each listing."
      ]
    },
    {
      "cell_type": "code",
      "metadata": {
        "colab_type": "code",
        "id": "X2PZ8Pj_YxcF",
        "colab": {},
        "outputId": "0550f63e-1f23-4be7-a286-a6e202ade90d"
      },
      "source": [
        "# Imports\n",
        "\n",
        "from sklearn.feature_extraction.text import CountVectorizer\n",
        "\n",
        "# First, create the transformer.\n",
        "vect = CountVectorizer(stop_words='english', min_df=0.025, max_df=0.75, lowercase=True)  # Toyed around with min/max_df for better intuitive understanding (DS13)\n",
        "\n",
        "# Build Vocab\n",
        "vect.fit(ds_df['description'])\n",
        "\n",
        "# Transform the text\n",
        "dtm = vect.transform(ds_df['description'])\n",
        "\n",
        "dtm = pd.DataFrame(dtm.todense(), columns=vect.get_feature_names())\n",
        "\n",
        "print('Number of Times Each Word Appeared in Data Scientist listings:')\n",
        "dtm.head()"
      ],
      "execution_count": 0,
      "outputs": [
        {
          "output_type": "stream",
          "text": [
            "Number of Times Each Word Appeared in Data Scientist listings:\n"
          ],
          "name": "stdout"
        },
        {
          "output_type": "execute_result",
          "data": {
            "text/html": [
              "<div>\n",
              "<style scoped>\n",
              "    .dataframe tbody tr th:only-of-type {\n",
              "        vertical-align: middle;\n",
              "    }\n",
              "\n",
              "    .dataframe tbody tr th {\n",
              "        vertical-align: top;\n",
              "    }\n",
              "\n",
              "    .dataframe thead th {\n",
              "        text-align: right;\n",
              "    }\n",
              "</style>\n",
              "<table border=\"1\" class=\"dataframe\">\n",
              "  <thead>\n",
              "    <tr style=\"text-align: right;\">\n",
              "      <th></th>\n",
              "      <th>000</th>\n",
              "      <th>10</th>\n",
              "      <th>100</th>\n",
              "      <th>12</th>\n",
              "      <th>15</th>\n",
              "      <th>20</th>\n",
              "      <th>2019</th>\n",
              "      <th>25</th>\n",
              "      <th>3rd</th>\n",
              "      <th>40</th>\n",
              "      <th>...</th>\n",
              "      <th>x99t</th>\n",
              "      <th>x99ve</th>\n",
              "      <th>x9cbig</th>\n",
              "      <th>x9d</th>\n",
              "      <th>xa6</th>\n",
              "      <th>xc2</th>\n",
              "      <th>xe2</th>\n",
              "      <th>year</th>\n",
              "      <th>years</th>\n",
              "      <th>york</th>\n",
              "    </tr>\n",
              "  </thead>\n",
              "  <tbody>\n",
              "    <tr>\n",
              "      <th>0</th>\n",
              "      <td>0</td>\n",
              "      <td>0</td>\n",
              "      <td>0</td>\n",
              "      <td>0</td>\n",
              "      <td>0</td>\n",
              "      <td>0</td>\n",
              "      <td>0</td>\n",
              "      <td>0</td>\n",
              "      <td>0</td>\n",
              "      <td>0</td>\n",
              "      <td>...</td>\n",
              "      <td>0</td>\n",
              "      <td>0</td>\n",
              "      <td>0</td>\n",
              "      <td>0</td>\n",
              "      <td>0</td>\n",
              "      <td>1</td>\n",
              "      <td>0</td>\n",
              "      <td>0</td>\n",
              "      <td>0</td>\n",
              "      <td>0</td>\n",
              "    </tr>\n",
              "    <tr>\n",
              "      <th>1</th>\n",
              "      <td>0</td>\n",
              "      <td>0</td>\n",
              "      <td>0</td>\n",
              "      <td>0</td>\n",
              "      <td>0</td>\n",
              "      <td>0</td>\n",
              "      <td>0</td>\n",
              "      <td>0</td>\n",
              "      <td>0</td>\n",
              "      <td>0</td>\n",
              "      <td>...</td>\n",
              "      <td>0</td>\n",
              "      <td>0</td>\n",
              "      <td>0</td>\n",
              "      <td>0</td>\n",
              "      <td>2</td>\n",
              "      <td>0</td>\n",
              "      <td>8</td>\n",
              "      <td>1</td>\n",
              "      <td>0</td>\n",
              "      <td>0</td>\n",
              "    </tr>\n",
              "    <tr>\n",
              "      <th>2</th>\n",
              "      <td>0</td>\n",
              "      <td>0</td>\n",
              "      <td>0</td>\n",
              "      <td>0</td>\n",
              "      <td>0</td>\n",
              "      <td>0</td>\n",
              "      <td>0</td>\n",
              "      <td>0</td>\n",
              "      <td>0</td>\n",
              "      <td>0</td>\n",
              "      <td>...</td>\n",
              "      <td>0</td>\n",
              "      <td>0</td>\n",
              "      <td>0</td>\n",
              "      <td>0</td>\n",
              "      <td>0</td>\n",
              "      <td>0</td>\n",
              "      <td>0</td>\n",
              "      <td>0</td>\n",
              "      <td>0</td>\n",
              "      <td>0</td>\n",
              "    </tr>\n",
              "    <tr>\n",
              "      <th>3</th>\n",
              "      <td>0</td>\n",
              "      <td>0</td>\n",
              "      <td>0</td>\n",
              "      <td>0</td>\n",
              "      <td>0</td>\n",
              "      <td>0</td>\n",
              "      <td>0</td>\n",
              "      <td>0</td>\n",
              "      <td>0</td>\n",
              "      <td>0</td>\n",
              "      <td>...</td>\n",
              "      <td>0</td>\n",
              "      <td>0</td>\n",
              "      <td>0</td>\n",
              "      <td>0</td>\n",
              "      <td>0</td>\n",
              "      <td>0</td>\n",
              "      <td>0</td>\n",
              "      <td>1</td>\n",
              "      <td>0</td>\n",
              "      <td>0</td>\n",
              "    </tr>\n",
              "    <tr>\n",
              "      <th>4</th>\n",
              "      <td>0</td>\n",
              "      <td>0</td>\n",
              "      <td>0</td>\n",
              "      <td>0</td>\n",
              "      <td>0</td>\n",
              "      <td>0</td>\n",
              "      <td>0</td>\n",
              "      <td>0</td>\n",
              "      <td>0</td>\n",
              "      <td>0</td>\n",
              "      <td>...</td>\n",
              "      <td>0</td>\n",
              "      <td>0</td>\n",
              "      <td>0</td>\n",
              "      <td>0</td>\n",
              "      <td>0</td>\n",
              "      <td>0</td>\n",
              "      <td>1</td>\n",
              "      <td>0</td>\n",
              "      <td>1</td>\n",
              "      <td>0</td>\n",
              "    </tr>\n",
              "  </tbody>\n",
              "</table>\n",
              "<p>5 rows × 1568 columns</p>\n",
              "</div>"
            ],
            "text/plain": [
              "   000  10  100  12  15  20  2019  25  3rd  40  ...  x99t  x99ve  x9cbig  x9d  \\\n",
              "0    0   0    0   0   0   0     0   0    0   0  ...     0      0       0    0   \n",
              "1    0   0    0   0   0   0     0   0    0   0  ...     0      0       0    0   \n",
              "2    0   0    0   0   0   0     0   0    0   0  ...     0      0       0    0   \n",
              "3    0   0    0   0   0   0     0   0    0   0  ...     0      0       0    0   \n",
              "4    0   0    0   0   0   0     0   0    0   0  ...     0      0       0    0   \n",
              "\n",
              "   xa6  xc2  xe2  year  years  york  \n",
              "0    0    1    0     0      0     0  \n",
              "1    2    0    8     1      0     0  \n",
              "2    0    0    0     0      0     0  \n",
              "3    0    0    0     1      0     0  \n",
              "4    0    0    1     0      1     0  \n",
              "\n",
              "[5 rows x 1568 columns]"
            ]
          },
          "metadata": {
            "tags": []
          },
          "execution_count": 8
        }
      ]
    },
    {
      "cell_type": "markdown",
      "metadata": {
        "colab_type": "text",
        "id": "Zo1iH_UeY7_n"
      },
      "source": [
        "## 4) Visualize the most common word counts"
      ]
    },
    {
      "cell_type": "code",
      "metadata": {
        "colab_type": "code",
        "id": "M5LB00uyZKV5",
        "colab": {},
        "outputId": "03ce7752-ca16-476c-d60c-6cc4fa744af5"
      },
      "source": [
        "# This will create a dataframe sorted by the most to least popular words.\n",
        "most_common_words = pd.DataFrame(dtm.sum().sort_values(ascending=False))\n",
        "\n",
        "most_common_words.reset_index(inplace=True)  # Resetting the index to replace column names\n",
        "\n",
        "most_common_words.columns = ['word', 'count']\n",
        "\n",
        "most_common_words.head()"
      ],
      "execution_count": 0,
      "outputs": [
        {
          "output_type": "execute_result",
          "data": {
            "text/html": [
              "<div>\n",
              "<style scoped>\n",
              "    .dataframe tbody tr th:only-of-type {\n",
              "        vertical-align: middle;\n",
              "    }\n",
              "\n",
              "    .dataframe tbody tr th {\n",
              "        vertical-align: top;\n",
              "    }\n",
              "\n",
              "    .dataframe thead th {\n",
              "        text-align: right;\n",
              "    }\n",
              "</style>\n",
              "<table border=\"1\" class=\"dataframe\">\n",
              "  <thead>\n",
              "    <tr style=\"text-align: right;\">\n",
              "      <th></th>\n",
              "      <th>word</th>\n",
              "      <th>count</th>\n",
              "    </tr>\n",
              "  </thead>\n",
              "  <tbody>\n",
              "    <tr>\n",
              "      <th>0</th>\n",
              "      <td>xe2</td>\n",
              "      <td>1336</td>\n",
              "    </tr>\n",
              "    <tr>\n",
              "      <th>1</th>\n",
              "      <td>x80</td>\n",
              "      <td>1323</td>\n",
              "    </tr>\n",
              "    <tr>\n",
              "      <th>2</th>\n",
              "      <td>learning</td>\n",
              "      <td>869</td>\n",
              "    </tr>\n",
              "    <tr>\n",
              "      <th>3</th>\n",
              "      <td>analytics</td>\n",
              "      <td>698</td>\n",
              "    </tr>\n",
              "    <tr>\n",
              "      <th>4</th>\n",
              "      <td>machine</td>\n",
              "      <td>672</td>\n",
              "    </tr>\n",
              "  </tbody>\n",
              "</table>\n",
              "</div>"
            ],
            "text/plain": [
              "        word  count\n",
              "0        xe2   1336\n",
              "1        x80   1323\n",
              "2   learning    869\n",
              "3  analytics    698\n",
              "4    machine    672"
            ]
          },
          "metadata": {
            "tags": []
          },
          "execution_count": 9
        }
      ]
    },
    {
      "cell_type": "code",
      "metadata": {
        "id": "EnzUmszX7oCF",
        "colab_type": "code",
        "colab": {},
        "outputId": "fff4cf30-0a0c-4985-ed87-61cff4250fff"
      },
      "source": [
        "from pylab import rcParams\n",
        "rcParams['figure.figsize'] = 12, 6.5\n",
        "\n",
        "ten_most_common_words = most_common_words.head(10)  # The 10 most common words\n",
        "\n",
        "plt.bar(x=ten_most_common_words['word'], height=ten_most_common_words['count'])\n",
        "plt.ylabel('Number of Times Word Used')\n",
        "plt.title('Most Commonly Used Words in Data Scientist Job Listings on Indeed.com')\n",
        "plt.show();"
      ],
      "execution_count": 0,
      "outputs": [
        {
          "output_type": "display_data",
          "data": {
            "image/png": "[encoded data removed]",
            "text/plain": [
              "<Figure size 864x468 with 1 Axes>"
            ]
          },
          "metadata": {
            "tags": [],
            "needs_background": "light"
          }
        }
      ]
    },
    {
      "cell_type": "markdown",
      "metadata": {
        "colab_type": "text",
        "id": "bwFsTqrVZMYi"
      },
      "source": [
        "## 5) Use Scikit-Learn's tfidfVectorizer to get a TF-IDF feature matrix"
      ]
    },
    {
      "cell_type": "code",
      "metadata": {
        "id": "B9G71KX17oCL",
        "colab_type": "code",
        "colab": {}
      },
      "source": [
        "# Function from lesson\n",
        "def tokenize(document):\n",
        "    \n",
        "    doc = nlp(document)\n",
        "    \n",
        "    return [token.lemma_.strip() for token in doc if (token.text.lower() not in STOP_WORDS) and (token.is_punct != True)]"
      ],
      "execution_count": 0,
      "outputs": []
    },
    {
      "cell_type": "code",
      "metadata": {
        "colab_type": "code",
        "id": "-gx2gZCbl5Np",
        "colab": {},
        "outputId": "e4d542a3-0639-4291-8b56-8516041c3c55"
      },
      "source": [
        "# Imports\n",
        "from sklearn.feature_extraction.text import TfidfVectorizer\n",
        "\n",
        "# Instantiate Vectorizer\n",
        "tfidf = TfidfVectorizer(stop_words='english', ngram_range=(1,3),\n",
        "                        max_df=.95, min_df=2, max_features=3750,\n",
        "                        tokenizer=tokenize)\n",
        "\n",
        "# Create vocabulary / get word counts\n",
        "dtm = tfidf.fit_transform(ds_df['description'])\n",
        "\n",
        "dtm = pd.DataFrame(dtm.todense(), columns=tfidf.get_feature_names())\n",
        "\n",
        "dtm.head()"
      ],
      "execution_count": 0,
      "outputs": [
        {
          "output_type": "execute_result",
          "data": {
            "text/html": [
              "<div>\n",
              "<style scoped>\n",
              "    .dataframe tbody tr th:only-of-type {\n",
              "        vertical-align: middle;\n",
              "    }\n",
              "\n",
              "    .dataframe tbody tr th {\n",
              "        vertical-align: top;\n",
              "    }\n",
              "\n",
              "    .dataframe thead th {\n",
              "        text-align: right;\n",
              "    }\n",
              "</style>\n",
              "<table border=\"1\" class=\"dataframe\">\n",
              "  <thead>\n",
              "    <tr style=\"text-align: right;\">\n",
              "      <th></th>\n",
              "      <th></th>\n",
              "      <th></th>\n",
              "      <th>2</th>\n",
              "      <th>3</th>\n",
              "      <th>4</th>\n",
              "      <th>5</th>\n",
              "      <th>additional</th>\n",
              "      <th>advanced</th>\n",
              "      <th>bachelor\\xe2\\x80\\x99s</th>\n",
              "      <th>bachelor\\xe2\\x80\\x99s degree</th>\n",
              "      <th>...</th>\n",
              "      <th>you\\'ll</th>\n",
              "      <th>you\\xe2\\x80\\x99ll</th>\n",
              "      <th>you\\xe2\\x80\\x99ll</th>\n",
              "      <th>you\\xe2\\x80\\x99ll develop</th>\n",
              "      <th>you\\xe2\\x80\\x99ll need</th>\n",
              "      <th>you\\xe2\\x80\\x99re</th>\n",
              "      <th>you\\xe2\\x80\\x99ve</th>\n",
              "      <th>zf</th>\n",
              "      <th>|</th>\n",
              "      <th>||</th>\n",
              "    </tr>\n",
              "  </thead>\n",
              "  <tbody>\n",
              "    <tr>\n",
              "      <th>0</th>\n",
              "      <td>0.000000</td>\n",
              "      <td>0.0</td>\n",
              "      <td>0.0</td>\n",
              "      <td>0.0</td>\n",
              "      <td>0.0</td>\n",
              "      <td>0.0</td>\n",
              "      <td>0.0</td>\n",
              "      <td>0.0</td>\n",
              "      <td>0.0</td>\n",
              "      <td>0.0</td>\n",
              "      <td>...</td>\n",
              "      <td>0.0</td>\n",
              "      <td>0.0</td>\n",
              "      <td>0.0</td>\n",
              "      <td>0.0</td>\n",
              "      <td>0.0</td>\n",
              "      <td>0.0</td>\n",
              "      <td>0.0</td>\n",
              "      <td>0.0</td>\n",
              "      <td>0.0</td>\n",
              "      <td>0.0</td>\n",
              "    </tr>\n",
              "    <tr>\n",
              "      <th>1</th>\n",
              "      <td>0.087486</td>\n",
              "      <td>0.0</td>\n",
              "      <td>0.0</td>\n",
              "      <td>0.0</td>\n",
              "      <td>0.0</td>\n",
              "      <td>0.0</td>\n",
              "      <td>0.0</td>\n",
              "      <td>0.0</td>\n",
              "      <td>0.0</td>\n",
              "      <td>0.0</td>\n",
              "      <td>...</td>\n",
              "      <td>0.0</td>\n",
              "      <td>0.0</td>\n",
              "      <td>0.0</td>\n",
              "      <td>0.0</td>\n",
              "      <td>0.0</td>\n",
              "      <td>0.0</td>\n",
              "      <td>0.0</td>\n",
              "      <td>0.0</td>\n",
              "      <td>0.0</td>\n",
              "      <td>0.0</td>\n",
              "    </tr>\n",
              "    <tr>\n",
              "      <th>2</th>\n",
              "      <td>0.038404</td>\n",
              "      <td>0.0</td>\n",
              "      <td>0.0</td>\n",
              "      <td>0.0</td>\n",
              "      <td>0.0</td>\n",
              "      <td>0.0</td>\n",
              "      <td>0.0</td>\n",
              "      <td>0.0</td>\n",
              "      <td>0.0</td>\n",
              "      <td>0.0</td>\n",
              "      <td>...</td>\n",
              "      <td>0.0</td>\n",
              "      <td>0.0</td>\n",
              "      <td>0.0</td>\n",
              "      <td>0.0</td>\n",
              "      <td>0.0</td>\n",
              "      <td>0.0</td>\n",
              "      <td>0.0</td>\n",
              "      <td>0.0</td>\n",
              "      <td>0.0</td>\n",
              "      <td>0.0</td>\n",
              "    </tr>\n",
              "    <tr>\n",
              "      <th>3</th>\n",
              "      <td>0.066109</td>\n",
              "      <td>0.0</td>\n",
              "      <td>0.0</td>\n",
              "      <td>0.0</td>\n",
              "      <td>0.0</td>\n",
              "      <td>0.0</td>\n",
              "      <td>0.0</td>\n",
              "      <td>0.0</td>\n",
              "      <td>0.0</td>\n",
              "      <td>0.0</td>\n",
              "      <td>...</td>\n",
              "      <td>0.0</td>\n",
              "      <td>0.0</td>\n",
              "      <td>0.0</td>\n",
              "      <td>0.0</td>\n",
              "      <td>0.0</td>\n",
              "      <td>0.0</td>\n",
              "      <td>0.0</td>\n",
              "      <td>0.0</td>\n",
              "      <td>0.0</td>\n",
              "      <td>0.0</td>\n",
              "    </tr>\n",
              "    <tr>\n",
              "      <th>4</th>\n",
              "      <td>0.000000</td>\n",
              "      <td>0.0</td>\n",
              "      <td>0.0</td>\n",
              "      <td>0.0</td>\n",
              "      <td>0.0</td>\n",
              "      <td>0.0</td>\n",
              "      <td>0.0</td>\n",
              "      <td>0.0</td>\n",
              "      <td>0.0</td>\n",
              "      <td>0.0</td>\n",
              "      <td>...</td>\n",
              "      <td>0.0</td>\n",
              "      <td>0.0</td>\n",
              "      <td>0.0</td>\n",
              "      <td>0.0</td>\n",
              "      <td>0.0</td>\n",
              "      <td>0.0</td>\n",
              "      <td>0.0</td>\n",
              "      <td>0.0</td>\n",
              "      <td>0.0</td>\n",
              "      <td>0.0</td>\n",
              "    </tr>\n",
              "  </tbody>\n",
              "</table>\n",
              "<p>5 rows × 3750 columns</p>\n",
              "</div>"
            ],
            "text/plain": [
              "                    2    3    4    5   additional   advanced  \\\n",
              "0  0.000000  0.0  0.0  0.0  0.0  0.0          0.0        0.0   \n",
              "1  0.087486  0.0  0.0  0.0  0.0  0.0          0.0        0.0   \n",
              "2  0.038404  0.0  0.0  0.0  0.0  0.0          0.0        0.0   \n",
              "3  0.066109  0.0  0.0  0.0  0.0  0.0          0.0        0.0   \n",
              "4  0.000000  0.0  0.0  0.0  0.0  0.0          0.0        0.0   \n",
              "\n",
              "    bachelor\\xe2\\x80\\x99s   bachelor\\xe2\\x80\\x99s degree  ...  you\\'ll  \\\n",
              "0                     0.0                            0.0  ...      0.0   \n",
              "1                     0.0                            0.0  ...      0.0   \n",
              "2                     0.0                            0.0  ...      0.0   \n",
              "3                     0.0                            0.0  ...      0.0   \n",
              "4                     0.0                            0.0  ...      0.0   \n",
              "\n",
              "   you\\xe2\\x80\\x99ll  you\\xe2\\x80\\x99ll   you\\xe2\\x80\\x99ll develop  \\\n",
              "0                0.0                 0.0                        0.0   \n",
              "1                0.0                 0.0                        0.0   \n",
              "2                0.0                 0.0                        0.0   \n",
              "3                0.0                 0.0                        0.0   \n",
              "4                0.0                 0.0                        0.0   \n",
              "\n",
              "   you\\xe2\\x80\\x99ll need  you\\xe2\\x80\\x99re  you\\xe2\\x80\\x99ve   zf    |   ||  \n",
              "0                     0.0                0.0                0.0  0.0  0.0  0.0  \n",
              "1                     0.0                0.0                0.0  0.0  0.0  0.0  \n",
              "2                     0.0                0.0                0.0  0.0  0.0  0.0  \n",
              "3                     0.0                0.0                0.0  0.0  0.0  0.0  \n",
              "4                     0.0                0.0                0.0  0.0  0.0  0.0  \n",
              "\n",
              "[5 rows x 3750 columns]"
            ]
          },
          "metadata": {
            "tags": []
          },
          "execution_count": 12
        }
      ]
    },
    {
      "cell_type": "markdown",
      "metadata": {
        "id": "12L8MejJ7oCc",
        "colab_type": "text"
      },
      "source": [
        "## 6) Create a NearestNeighbor Model. Write the description of your ideal datascience job and query your job listings. "
      ]
    },
    {
      "cell_type": "code",
      "metadata": {
        "inputHidden": false,
        "jupyter": {
          "outputs_hidden": false
        },
        "outputHidden": false,
        "id": "5g3HnVab7oCd",
        "colab_type": "code",
        "colab": {},
        "outputId": "3c479003-7f4c-42d5-ea09-9e698a9b7ed0"
      },
      "source": [
        "# Import\n",
        "from sklearn.neighbors import NearestNeighbors\n",
        "\n",
        "# Fit nearest neighbors on dtm\n",
        "nn = NearestNeighbors(n_neighbors=5, algorithm='kd_tree')\n",
        "nn.fit(dtm)"
      ],
      "execution_count": 0,
      "outputs": [
        {
          "output_type": "execute_result",
          "data": {
            "text/plain": [
              "NearestNeighbors(algorithm='kd_tree', leaf_size=30, metric='minkowski',\n",
              "                 metric_params=None, n_jobs=None, n_neighbors=5, p=2,\n",
              "                 radius=1.0)"
            ]
          },
          "metadata": {
            "tags": []
          },
          "execution_count": 13
        }
      ]
    },
    {
      "cell_type": "code",
      "metadata": {
        "id": "p3aTXZl47oCm",
        "colab_type": "code",
        "colab": {},
        "outputId": "907525c7-ad9c-4834-fc1f-4be3578c000f"
      },
      "source": [
        "# Create query for description of ideal data science job\n",
        "\n",
        "job_desc = [\"\"\"use effective data analytics skills and practices to develop, maintain, and improve \n",
        "reporting for marketing, and predictive modeling for forecasting future results and potential additions \n",
        "to our eCommerce solutions. You will collaborate with sales leadership and advise on opportunities to improve \n",
        "upon conversion rates, as well as evaluate execution and performance of marketing events \n",
        "based upon lead generation, PPC, and margin attributing to the overall efforts of marketing ROI, and offer potential\n",
        "solutions to improve marketing efforts and convey predictions for these results using visualization techniques\n",
        "including matplotlib and plotly. The individual in this position may also work on recommendation engines\n",
        "to help decrease website bounce rate and increase revenue.\"\"\"]\n",
        "\n",
        "query = tfidf.transform(job_desc)\n",
        "\n",
        "query"
      ],
      "execution_count": 0,
      "outputs": [
        {
          "output_type": "execute_result",
          "data": {
            "text/plain": [
              "<1x3750 sparse matrix of type '<class 'numpy.float64'>'\n",
              "\twith 55 stored elements in Compressed Sparse Row format>"
            ]
          },
          "metadata": {
            "tags": []
          },
          "execution_count": 14
        }
      ]
    },
    {
      "cell_type": "code",
      "metadata": {
        "id": "Dp4uGgbh7oCr",
        "colab_type": "code",
        "colab": {}
      },
      "source": [
        "descriptions = nn.kneighbors(query.todense())[1]"
      ],
      "execution_count": 0,
      "outputs": []
    },
    {
      "cell_type": "code",
      "metadata": {
        "id": "CuYkKhXy7oC0",
        "colab_type": "code",
        "colab": {},
        "outputId": "5c505088-24cc-4de3-c619-74f4a5f2eab5"
      },
      "source": [
        "# DS13 Update\n",
        "\n",
        "print('Top Five Positions Relative to Query: \\n\\n')\n",
        "\n",
        "for i in range(len(descriptions[0])):\n",
        "    descr = descriptions[0][i]\n",
        "    print(f'Description #{i + 1}:')\n",
        "    print(ds_df['description'][descr])\n",
        "    print('======================================================================')  # Readability\n",
        "    print()  # For further improved readability"
      ],
      "execution_count": 0,
      "outputs": [
        {
          "output_type": "stream",
          "text": [
            "Top Five Positions Relative to Query: \n",
            "\n",
            "\n",
            "Description #1:\n",
            "Here at Universal Parks & Resorts\\xe2\\x84\\xa2, you can enjoy an exciting culture where creating our unique Universal brand of thrilling experiences is a top priority. We are passionate about what we do and take pride in the exclusive ways we deliver fun.  Comprised of Universal Orlando Resort, Universal Studios Hollywood, Universal Studios Japan, Universal Studios Singapore, and a new destination coming in Beijing, China; we are proud to offer a universe of extraordinary opportunities. It takes a special kind of person to work at all of our destinations. We value individuals who know how to be part of a team, who embrace fun and are serious about their work. It takes hard work, dedication, knowledge and just the right amount of Universal spirit to open our doors of opportunity. We champion the power of cultural diversity and inclusion and continuously strive to maintain a team that is a reflection of our global audience.  Being a part of the Universal family also comes with extraordinary perks. We offer a comprehensive benefits package, career development, excellent growth opportunities, free park admission, complimentary passes, and more!  Join us if you want to collaborate, innovate, develop, and deliver the most compelling entertainment experiences imaginable that drive growth for the Universal brand around the world. Experience a workplace that will inspire you to be Bold! Apply today.   JOB SUMMARY: Design, develop and evaluate advanced predictive and machine learning models with a focus on the personalization and optimization of marketing tactics. Analyze and extract relevant information about guest behaviors and preferences from both structured and unstructured data to better understand marketing opportunities. Help define and optimize segmentation strategy using a variety of techniques, ranging from statistical analysis to complex data mining and modeling. Conduct advanced analysis on various marketing efforts to gauge performance, impact and effectiveness against the desired results. Deliver clear and compelling findings with data visualization tools and presentations that inform and inspire internal stakeholders to make better business decisions. Collaborate with colleagues in Marketing Operations and IT to infuse predictive analytics into customer touchpoints, driving increased relevance and business performance.  MAJOR RESPONSIBILITIES:  Marketing Strategy and Insights  Engage with internal partners to translate business problems into a framework for advanced analysis and collaborate to establish project goals and deliverables. Use advanced analytics approaches for attribution to support the marketing optimization of paid, owned and earned media to drive actionable media insights across key business areas for point of origin, campaigns, destinations, attractions and events. Leverage top down marketing mix modeling results, bottom up attribution and consumer and marketing insights in order to provide strategic recommendations. Provide strategic guidance in working alongside the technology department in defining business requirements and enabling the data processing system for modeling. Visualize media performance and attribution results in an interactive dashboard. Personalization and Audience Strategy  Develops segmentation, propensity and look-a-like modeling of individuals across known, identified and anonymous audiences Create the analytics to leverage known, inferred and appended information about individuals to facilitate the right content, at the right time, across a guest\\xe2\\x80\\x99s planning, shopping, fulfillment and on-property experience. Create a comprehensive understanding of consumer behaviors that drives audience strategy, improves the customer experience and generates revenue Define and produce deliverables that identify opportunities to shape consumer experiences that inform and inspire internal stakeholders and decision makers. Team Development and Mentoring  Mentor direct reports on a weekly basis to guide them on performance, and personal and career growth. Conduct monthly / quarterly / annual planning with team to ensure team objectives align and support broader business objectives. SCOPE: This role is responsible for the design and management of modeling practices and segmentation that incorporate demographic and behavioral data from CRM systems, online tracking data and 3rd party enhanced data, in partnership with internal marketing teams, to enhance understanding and increase value by application of actionable segmentation and models.  EDUCATION: Master\\xe2\\x80\\x99s degree required \\xe2\\x80\\x93 Economics, Econometrics, Statistics, Analytics or Data Science. EXPERIENCE: 6+ years\\xe2\\x80\\x99 prior hands-on experience in data science. Strong experience in programming with statistical modeling tools to fuel and deliver marketing personalization and business insights. Strong experience in manipulating and mining data to transform business decisions that impact the bottom line. Experience leveraging visual analytics to create a seamless and inspirational story that inspire and inform business leaders with the necessary knowledge to drive revenue and customer loyalty. Experience in the following areas preferred:  Travel & Resort Industry, Entertainment &/or Theme Park experience Marketing Personalization Marketing Mix Models, attribution, forecasting, and market testing Digital Marketing & Analytics Business Intelligence Reporting CRM Execution Consumer Research and Journey Consumer Data Competitive Analysis QUALIFICATIONS:  Experience leveraging predictive modeling, big data analytics, exploratory data analysis and machine learning to drive significant business impact Expert knowledge programming in R or Python Skilled in interacting with relational databases through SQL Knowledge in attribution, marketing mix modeling and optimization techniques Knowledge in marketing, media and customer segmentation strategy Ability to manipulate unstructured data to form insights about the business Understanding of big data technologies and coding in a cluster-computing framework Familiar with visual analytic tools such as Tableau Ability to paint a picture through analytics that will enhance and determine business decisions Demonstrated a willingness to both teach others and learn new techniques Ability to handle multiple projects required and work independently in a deadline oriented environment Desire to work in a fast paced environment required Your talent, skills and experience will be rewarded with a competitive compensation package.   Universal is not accepting unsolicited assistance from search firms for this employment opportunity. All resumes submitted by search firms to any employee at Universal Orlando via-email, the Internet or in any form and/or method without a valid written Statement of Work in place for this position from Universal Orlando HR/Recruitment will be deemed the sole property of Universal Orlando. No fee will be paid in the event the candidate is hired by Universal Orlando as a result of the referral or through other means. Universally YOU!  Universal elements and all related indicia TM & \\xc2\\xa9 2019 Universal Studios. All rights reserved. EOE\n",
            "======================================================================\n",
            "\n",
            "Description #2:\n",
            "We are looking for a Senior Data Scientist with marketing analytics background to join the Spotify product Insights team in New York City. As part of the Growth Opportunities department, you will lead insights for a new team focused on Engineering Automated Marketing for user acquisition. Engineering Automated Marketing is the art and science of bringing the right content to the right users, at scale. Thanks to the power of Machine Learning, the depth of Spotify\\xe2\\x80\\x99s catalog and our large user base, we can enable technology that allows us to automate, measure and optimize the effectiveness of our content marketing campaigns. Think emails, push, or Facebook ads.  Acquisition Marketing focuses on driving efficient and effective registrations through advertising and we are pioneering the way in which we use data, analytics and advanced data science to execute and optimize our global marketing. You will measure and provide optimization recommendations for all Artist and Content marketing campaigns through a causal approach (i.e., incrementality) and improve our marketing effectiveness through experimentation.  We are looking for a Data Scientist to join our team that will lead experimentation efforts in key marketing channels. This role will support the full cycle of an experiment (from data-driven hypothesis generation to test design to analysis and interpretation) while also innovating on experimental methodologies that allow us to obtain meaningful results. What you\\xe2\\x80\\x99ll do  Lead the design, analysis, and interpretation of experiments that shape decision-making around acquisition and engagement marketing at Spotify. Proactively perform data exploration to discover future testing opportunities Drive innovation by developing new experimentation methodologies, statistical techniques, and causal-inference approaches that could sharpen our marketing decision-making process. Be a strategic partner and work with business stakeholders to connect analysis to key decisions that affect the business to influence and drive impact to the business. Instrument tracking (e.g. via DoubleClick, Google Analytics, Adjust) for marketing campaigns Access marketing performance data through a variety of tools Build performance dashboards (e.g. Tableau, Looker) Frequently analyze the results of marketing campaigns and recommend optimizations to improve performance Deploy agile testing strategies (e.g. A/B testing) to quantify impact of performance recommendations Who you are  4+ years of experience in marketing analytics or business intelligence (focused in analytics) with a proven track record of delivering performance results required. Understanding of traditional media (TV, out of home), digital media (search, display, social) and CRM (email, push notifications) required. Strong analytical skills, including data querying, dashboarding, and experimental design are required. Expertise in marketing tracking platforms (e.g. DoubleClick, Google Tag Manager, Google Analytics, Adjust) required. Experience in executing incrementality testing with marketing platforms (FB, Twitter, Snapchat, Google) preferred Data visualization skills required (e.g. Tableau, Looker). Excel expertise required. You have an advanced degree in Statistics, Econometrics, Mathematics, Physics, or a related quantitative field You have deep statistical skills utilized in A/B testing, analyzing observational data, and modeling You are comfortable working with large data sets and analyzing complex data with SQL and other tools such as Python or R You have a strong bias to action, delivering results quickly with iteration instead of waiting for perfection. You are an expert at taking vague questions and crystallizing them into impactful experiments, statistical analysis or models for the business You are able to multitask and work on multiple ongoing projects, with minimal oversight, documentation, and defined process\n",
            "======================================================================\n",
            "\n",
            "Description #3:\n",
            "Company  ProjectManager.com is an award-winning Project Management software company, with thousands of paying customers around the World like NASA and the United Nations using our SaaS platform to manage projects. We are now seeking a full-time Data Scientist to further fuel our company\\'s growth. This position will be based in our Austin, TX office and due to its importance, will report directly to the CEO.  Job Role  Your role is to provide deep and accurate insight into business performance, so that we can make better decisions and impact revenue growth. If you\\'re data-driven, have an analytical mindset and experience in building SaaS Business Intelligence platforms, then this role is for you.  Key Responsibilities   Build a new Business Intelligence Platform Select the strategic tool-set for our new BI platform. Build the platform from the ground up. While you will have software development resources at your fingertips for the engineering work needed, you will architect, configure and roll out the platform from the ground up. Once your new BI engine has been created, you will use your SaaS knowledge to create a Dashboard for analyzing the performance of the business on an ongoing basis. This platform will also include the charts needed for senior management reporting. Those charts will show all of the industry standard SaaS metrics like Conversion Rates, Retention Periods, Churn Rates, CAC, LTV ratios etc. Provide deep insight into performance Having now built a powerful BI platform at your fingertips, you will then focus on analyzing the business performance results, on a daily basis. You will provide deep insight into the performance of every aspect of the business, constantly identifying areas for improvement. For instance, you might identify; that the ROI needs to be improved for a specific Google Advertising campaign, that a specific Customer Success tactic caused Account Churn to increase, or that Pricing needs to be adjusted on specific Product Editions etc. Strategy & Execution Having gained deep insight into the performance of the business, you will work with the VP\\'s of Marketing, Sales, Product and Customer Success to create tactics and action plans for addressing the revenue opportunities you have identified. By helping create strategies and tactics for revenue growth, you will constantly be traversing the data and strategy levels within the business.  Experience  Must Have:  3-5 year\\'s experience as a Data Scientist, or other similar \"hands-on\" data role Built or rolled out a Business Intelligence platform from the ground up Worked in a transactional online business, knowing the levers which affect revenue Bachelors\\' degree or equivalent is required as a minimum  Ideally would have:  Experience as a Data Scientist in a \"SaaS\" business Worked as an analyst in an Investment Banking, Private Equity, Venture Capitalist or other \"numbers-based\" firm, so that SaaS metrics are second-nature.  Skills  This is very much a hands-on role and therefore requires extensive technical and data analytical skills  Technical Skills   Business Intelligence and Data Warehousing Advanced SQL knowledge Tableau or other presentation layer technologies Expert in Excel Pivot Tables  Analytical Skills   An expert in collecting, cleaning and munging data A true talent for extracting meaning from and interpreting data Advanced problem-solving abilities  Interpersonal Skills   Excellent communication skills; written, verbal and interpersonal Self-motivated, process-driven and detail oriented Honest, upfront and a team player  Benefits   Amazing full benefits: Health, Dental, Vision Competitive compensation package Generous PTO policy including paid sick days 401k with company match Work/ life balance Open atmosphere: our product continues to grow because we hire amazing people with great ideas  \n",
            "======================================================================\n",
            "\n",
            "Description #4:\n",
            "We are Drybar, a blow dry bar, and we set out to shake up the beauty industry in our own, specialty way. We believe in doing one thing and being the best at it. For us, that\\xe2\\x80\\x99s blowouts. In fact, our tagline says it best: No cuts. No color. Just blowouts. What started with one shop in Brentwood, CA has grown to over 100 locations across 25 markets, with more to come.  Drybar is seeking a data scientist to join our Marketing team. If you have a passion for \\xe2\\x80\\x9cwowing\\xe2\\x80\\x9d business leaders with progressive analytics techniques, leading projects focused on optimizing marketing effectiveness and driving marketing innovation and working with managers who \\xe2\\x80\\x9cget\\xe2\\x80\\x9d the work you are doing and support the value of analytics to drive brand results, then Drybar is the place for you!  What we\\'re all about: Responsibilities Data Munging Collect data from a wide variety of corporate databases and Excel files. Utilize your toolset in regular expressions to extract information from un-structured text documents and the web. Handle missing data through an algorithmic approach such as multiple imputations to enable insights in sparse and messy data. Use your inner whiz-kid to feature engineer the data to boost model accuracy. Predictive Modeling Utilizing your algorithmic/programming toolkit, build predictive models to drive acquisition, engagement and retention and improve growth and profitability, and other such key performance indicators for our business. More specifically, apply algorithms equal or similar to the following: elastic net regularization for regression, random forests, generalized boosted models, generalized additive models, support vector machines, neural networks, and time-series forecasting. Ability to communicate implications of the level of confidence in each of the models. Implement formal modeling processes from end to end including data gathering, data profiling, numerical model building, calibration, cross-validation, putting product into production, etc. After building the models, pilot \\xe2\\x80\\x9cscorecards\\xe2\\x80\\x9d to track model performance and calculated improvement to business. Explain complex modeling approaches in layman\\xe2\\x80\\x99s terms and discuss modeling results and business case impacts with non-technical business users. Test/Learn Analytics Develop a portfolio of test and learn programs, lead the test design and measurements/goals and manage the day-to-day execution of the corresponding analyses. Establish robust A/B and fractional factorial testing methodologies including sample size requirements for readability and go/no-go criteria for scaling. Lean-out testing processes to cut end-to-end cycles times and accelerate weekly test cadence. Manage testing calendar and minimize test collisions given test objectives and audiences. Establish tracking of value identified, validated in-market, and scaled across marketing channels and eCommerce. Create, maintain, and deliver dashboards and reports for KPI results from test measurements and communicate results to key stakeholders. Monitor and interpret results and suggest next steps for new test and rollout of programs to key stakeholders. Conduct ad hoc analysis for internal partners as requested, including in-depth funnel and conversion analysis Support the maintenance and development of web analytics platforms. Customer Glidepath and Audience Management Develop and maintain comprehensive customer segmentation models and recommendations for key focus segments. Identify targeted audiences to optimize marketing communications for digital media, on-site personalization, and one-to-one marketing (e.g., email, SMS, and direct mail) leveraging transactional data, online-browse behaviors, and 3rd parties. Develop thought leadership on best variables and fields to define key audiences for customer glidepath management efforts. Partner with IT to build, manage, and refresh audiences in relational databases and campaign management platforms to execute segmented marketing programs. Lead deep dives to identify highest performing audiences in digital media, on-site personalization, retargeting, and one-to-one marketing campaigns. Develop audience targeting plans for media buying, on-site personalization, and one to one vehicles. Collaborate with vendors to build audiences in external databases and systems (e.g., DMP, third-party demographic data, etc.). Execute ad-hoc analyses as requested by leadership for development of segmented contact strategies. Create and maintain reports detailing performance of key audiences and communicate results to key stakeholders. Mixed Media Modeling Emphasis Develop and maintain multi-touch attribution models across digital and non-digital marketing channels. Estimate causal impact of marketing activities on financial outcomes in the short and long term. Integrate Marketing ROI models with multi-touch attribution models (e.g., consistent media taxonomy, rationalize ROI estimates). Prepare quarterly media optimization scenarios to inform media plans, financial forecasting, and target areas for efficiency gains. Provide insights to marketing and channel leads on cost to acquire, value of digital engagement, and cross-channel impact of media. Ensure high quality inputs into media mix models including accurate media spend by market, pricing/promotion position, competitor spend, and channel support. Establish and maintain expert knowledge of the latest methodological innovations in marketing mix modeling. Qualifications Bachelor\\xe2\\x80\\x99s degree in mathematics, business, statistics, economics, computer science or equivalent combination of education and experience. 2-5 years of directly related experience and strong proficiency of predictive modeling techniques, test/learn, customer segmentation and mixed media modeling. Successful track record of applying complex analytics techniques in a retail company, ecommerce or consumer brand. Strongly motivated to be a player in a team which is constantly working to improve themselves through discovering new analytics techniques and software tools to improve the quality of our work. Superior research, statistical, analytical, processing and mathematical skills with ability to structure and conduct analyses. Knowledge of digital marketing principles such as funnel optimization, UX, SEO & Landing Page optimization & experience in running A/B tests for campaigns and deriving customer insights. Proficiency in Microsoft Office Suite, SQL, and at least one of the following: SAS, R, and/or Python. Strong verbal and written communication skills; ability to present complex information in an easy-to-understand manner with clear recommendations based on data insight. Adaptability and the capability of multi-tasking and strong time management. Thrive in a fast\\xe2\\x80\\x90paced, entrepreneurial environment. Drybar follows all applicable federal, state and local laws in regards to background checks.\n",
            "======================================================================\n",
            "\n",
            "Description #5:\n",
            "Udacity's mission is to democratize education. We're an online learning platform offering groundbreaking education in fields such as artificial intelligence, machine learning, robotics, virtual reality, and more. Focused on self-empowerment through learning, Udacity is making innovative technologies such as self-driving cars available to a global community of aspiring technologists, while also enabling learners at all levels to skill up with essentials like programming, web and app development. If you love a challenge, and truly want to make a difference in the world, read on!  Udacity is looking for a Data Scientist who will work on the Marketing data platform. You would be the first data scientist who would work on different predictive models such as LTV, Conversion rate and Payback, etc., to power Marketing decisions at scale. The models would be applied with Growth Product to power Personalization and Recommendation engine.  Responsibilities: -----------------   Develop custom marketing predictive models and algorithms to apply to data sets. Use predictive modeling to increase and optimize growth product experience, ad targeting and other business outcomes. Contribute to the Marketing data platform with ideas and predictive models to build a great marketing data driven engine. Work with growth product and marketing stakeholders to implement models and monitor outcomes.  Qualifications: ---------------   Background in applied math, computer science, statistics, or related technical field, and 2+ years of industry experience as a Data scientist. Experience using statistical computer languages (R, Python) to manipulate data and draw insights from data sets. Experience with Scikit-learn machine learning python package. Knowledge of a variety of machine learning techniques (clustering, decision tree learning, artificial neural networks, etc.) and their real-world advantages/drawbacks. Knowledge of advanced statistical techniques and concepts (regression, properties of distributions, statistical tests and proper usage, etc.) and experience with applications. Machine learning models deployment experience a plus. Strong data modeling skills. Strong SQL skills to manipulate and transform data needed for Feature engineering. Marketing domain knowledge is a plus. Forecasting experience a plus.  We are an equal opportunity employer and value diversity at our company. Women, people of color, members of the LGBTQ community, individuals with disabilities, and veterans are strongly encouraged to apply.\n",
            "======================================================================\n",
            "\n"
          ],
          "name": "stdout"
        }
      ]
    },
    {
      "cell_type": "markdown",
      "metadata": {
        "colab_type": "text",
        "id": "FiDfTWceoRkH"
      },
      "source": [
        "## Stretch Goals\n",
        "\n",
        " - Try different visualizations for words and frequencies - what story do you want to tell with the data?\n",
        " - Scrape Job Listings for the job title \"Data Analyst\". How do these differ from Data Scientist Job Listings\n",
        " - Try and identify requirements for experience specific technologies that are asked for in the job listings. How are those distributed among the job listings?\n",
        " - Use a clustering algorithm to cluster documents by their most important terms. Do the clusters reveal any common themes?\n",
        "  - **Hint:** K-means might not be the best algorithm for this. Do a little bit of research to see what might be good for this. Also, remember that algorithms that depend on Euclidean distance break down with high dimensional data.\n",
        " - Create a labeled dataset - which jobs will you apply for? Train a model to select the jobs you are most likely to apply for. :) "
      ]
    }
  ]
}